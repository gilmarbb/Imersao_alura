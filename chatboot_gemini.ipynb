{
  "nbformat": 4,
  "nbformat_minor": 0,
  "metadata": {
    "colab": {
      "provenance": [],
      "authorship_tag": "ABX9TyO7Gb0vddpjYGql2X/KgR1b",
      "include_colab_link": true
    },
    "kernelspec": {
      "name": "python3",
      "display_name": "Python 3"
    },
    "language_info": {
      "name": "python"
    }
  },
  "cells": [
    {
      "cell_type": "markdown",
      "metadata": {
        "id": "view-in-github",
        "colab_type": "text"
      },
      "source": [
        "<a href=\"https://colab.research.google.com/github/gilmarbb/Imersao_alura/blob/main/chatboot_gemini.ipynb\" target=\"_parent\"><img src=\"https://colab.research.google.com/assets/colab-badge.svg\" alt=\"Open In Colab\"/></a>"
      ]
    },
    {
      "cell_type": "code",
      "execution_count": 1,
      "metadata": {
        "id": "9jeMd9qd7iWS"
      },
      "outputs": [],
      "source": [
        "!pip install -q -U google-generativeai"
      ]
    },
    {
      "cell_type": "code",
      "execution_count": 14,
      "metadata": {
        "id": "TS9l5igubpHO"
      },
      "outputs": [],
      "source": [
        "import pathlib\n",
        "import textwrap\n",
        "\n",
        "import google.generativeai as genai\n",
        "\n",
        "from IPython.display import display\n",
        "from IPython.display import Markdown\n",
        "\n",
        "\n",
        "def to_markdown(text):\n",
        "  text = text.replace('•', '  *')\n",
        "  return Markdown(textwrap.indent(text, '> ', predicate=lambda _: True))"
      ]
    },
    {
      "cell_type": "code",
      "source": [
        "# Used to securely store your API key\n",
        "from google.colab import userdata"
      ],
      "metadata": {
        "id": "fgufSTWa8KiN"
      },
      "execution_count": 15,
      "outputs": []
    },
    {
      "cell_type": "code",
      "execution_count": 19,
      "metadata": {
        "id": "ab9ASynfcIZn"
      },
      "outputs": [],
      "source": [
        "from google.colab import files\n",
        "GOOGLE_API_KEY = userdata.get('chave_api_genai')\n",
        "genai.configure(api_key=GOOGLE_API_KEY)"
      ]
    },
    {
      "cell_type": "code",
      "source": [
        "# para ver todas as opções de um objeto no colab digitide ctrl-espaco\n",
        "for m in genai.list_models():\n",
        "  if 'generateContent' in m.supported_generation_methods:\n",
        "    print(m.name)"
      ],
      "metadata": {
        "colab": {
          "base_uri": "https://localhost:8080/",
          "height": 139
        },
        "id": "KMk5OXR98dxo",
        "outputId": "4225196f-567d-4e73-e3a7-538d59e814e4"
      },
      "execution_count": 20,
      "outputs": [
        {
          "output_type": "stream",
          "name": "stdout",
          "text": [
            "models/gemini-1.0-pro\n",
            "models/gemini-1.0-pro-001\n",
            "models/gemini-1.0-pro-latest\n",
            "models/gemini-1.0-pro-vision-latest\n",
            "models/gemini-1.5-pro-latest\n",
            "models/gemini-pro\n",
            "models/gemini-pro-vision\n"
          ]
        }
      ]
    },
    {
      "cell_type": "code",
      "source": [
        "config = {\n",
        "    \"candidate_count\": 1,\n",
        "    \"temperature\": 0.4,\n",
        "#    \"top_k\": 40,\n",
        "#    \"top_p\": 0.95,\n",
        "#    \"typical_p\": 1,\n",
        "#    \"num_beams\": 1,\n",
        "}"
      ],
      "metadata": {
        "id": "RQvEnmHB9JBK"
      },
      "execution_count": 21,
      "outputs": []
    },
    {
      "cell_type": "code",
      "source": [
        "safety_seting = {\n",
        "    \"HARASSMENT\":\"BLOCK_NONE\",\n",
        "    \"HATE\":\"BLOCK_NONE\",\n",
        "    \"SEXUAL\":\"BLOCK_NONE\",\n",
        "    \"DANGEROUS\":\"BLOCK_NONE\"\n",
        "}"
      ],
      "metadata": {
        "id": "QfvxUI85_xTR"
      },
      "execution_count": 7,
      "outputs": []
    },
    {
      "cell_type": "code",
      "source": [
        "model = genai.GenerativeModel(model_name='gemini-1.0-pro', generation_config=config, safety_settings=safety_seting)"
      ],
      "metadata": {
        "id": "8wblW6-6AuaR"
      },
      "execution_count": 8,
      "outputs": []
    },
    {
      "cell_type": "code",
      "source": [
        "response = model.generate_content(\"Me explique as bibliotecas pathlib e textwrap do python\")\n",
        "print(response.text)"
      ],
      "metadata": {
        "colab": {
          "base_uri": "https://localhost:8080/",
          "height": 1000
        },
        "id": "Hb1XoUhHCHGD",
        "outputId": "c50b1a78-503e-4c98-ef90-058532154007"
      },
      "execution_count": 9,
      "outputs": [
        {
          "output_type": "stream",
          "name": "stdout",
          "text": [
            "**Biblioteca pathlib**\n",
            "\n",
            "A biblioteca pathlib fornece uma API orientada a objetos para trabalhar com caminhos de arquivos e diretórios. Ela oferece uma maneira mais intuitiva e consistente de lidar com caminhos de arquivos do que as funções padrão do Python, como `os.path`.\n",
            "\n",
            "**Principais recursos:**\n",
            "\n",
            "* **Caminhos como objetos:** Os caminhos de arquivos são representados como objetos `Path`, que fornecem métodos convenientes para manipulação de caminhos.\n",
            "* **Operações de caminho:** Você pode facilmente juntar, dividir, normalizar e resolver caminhos.\n",
            "* **Verificações de existência e tipo:** Verifique se um caminho existe, é um arquivo, diretório ou link simbólico.\n",
            "* **Iteração de diretórios:** Itere sobre os arquivos e diretórios em um diretório.\n",
            "* **Suporte a sistemas operacionais:** A biblioteca pathlib funciona em todos os principais sistemas operacionais, incluindo Windows, macOS e Linux.\n",
            "\n",
            "**Exemplo:**\n",
            "\n",
            "```python\n",
            "from pathlib import Path\n",
            "\n",
            "# Cria um objeto Path para o arquivo \"arquivo.txt\"\n",
            "arquivo = Path(\"arquivo.txt\")\n",
            "\n",
            "# Verifica se o arquivo existe\n",
            "if arquivo.exists():\n",
            "    # Lê o conteúdo do arquivo\n",
            "    with open(arquivo) as f:\n",
            "        conteudo = f.read()\n",
            "\n",
            "    # Imprime o conteúdo\n",
            "    print(conteudo)\n",
            "```\n",
            "\n",
            "**Biblioteca textwrap**\n",
            "\n",
            "A biblioteca textwrap fornece funções para formatar texto em várias linhas, quebrando-o em linhas com um determinado comprimento máximo. Isso é útil para criar texto legível em terminais, e-mails ou outros ambientes com largura limitada.\n",
            "\n",
            "**Principais recursos:**\n",
            "\n",
            "* **Quebra de linha:** Quebra o texto em linhas com um comprimento máximo especificado.\n",
            "* **Indentação:** Indenta as linhas quebradas com um número especificado de espaços.\n",
            "* **Preenchimento:** Preenche as linhas com espaços para alinhar o texto.\n",
            "* **Suporte a Unicode:** Suporta texto Unicode para lidar com caracteres não ASCII.\n",
            "\n",
            "**Exemplo:**\n",
            "\n",
            "```python\n",
            "import textwrap\n",
            "\n",
            "# Texto a ser formatado\n",
            "texto = \"\"\"\n",
            "Este é um longo texto que precisa ser quebrado em várias linhas.\n",
            "Ele contém várias frases e parágrafos.\n",
            "\"\"\"\n",
            "\n",
            "# Quebra o texto em linhas com um comprimento máximo de 50 caracteres\n",
            "texto_formatado = textwrap.fill(texto, width=50)\n",
            "\n",
            "# Imprime o texto formatado\n",
            "print(texto_formatado)\n",
            "```\n",
            "\n",
            "Saída:\n",
            "\n",
            "```\n",
            "Este é um longo texto que precisa ser quebrado em\n",
            "várias linhas. Ele contém várias frases e\n",
            "parágrafos.\n",
            "```\n"
          ]
        }
      ]
    },
    {
      "cell_type": "code",
      "source": [
        "to_markdown(response.text)"
      ],
      "metadata": {
        "colab": {
          "base_uri": "https://localhost:8080/",
          "height": 1000
        },
        "id": "MfHVUtYMC5mr",
        "outputId": "08ed72c0-f8a6-44e1-fd73-762165b12268"
      },
      "execution_count": 10,
      "outputs": [
        {
          "output_type": "execute_result",
          "data": {
            "text/plain": [
              "<IPython.core.display.Markdown object>"
            ],
            "text/markdown": "> **Biblioteca pathlib**\n> \n> A biblioteca pathlib fornece uma API orientada a objetos para trabalhar com caminhos de arquivos e diretórios. Ela oferece uma maneira mais intuitiva e consistente de lidar com caminhos de arquivos do que as funções padrão do Python, como `os.path`.\n> \n> **Principais recursos:**\n> \n> * **Caminhos como objetos:** Os caminhos de arquivos são representados como objetos `Path`, que fornecem métodos convenientes para manipulação de caminhos.\n> * **Operações de caminho:** Você pode facilmente juntar, dividir, normalizar e resolver caminhos.\n> * **Verificações de existência e tipo:** Verifique se um caminho existe, é um arquivo, diretório ou link simbólico.\n> * **Iteração de diretórios:** Itere sobre os arquivos e diretórios em um diretório.\n> * **Suporte a sistemas operacionais:** A biblioteca pathlib funciona em todos os principais sistemas operacionais, incluindo Windows, macOS e Linux.\n> \n> **Exemplo:**\n> \n> ```python\n> from pathlib import Path\n> \n> # Cria um objeto Path para o arquivo \"arquivo.txt\"\n> arquivo = Path(\"arquivo.txt\")\n> \n> # Verifica se o arquivo existe\n> if arquivo.exists():\n>     # Lê o conteúdo do arquivo\n>     with open(arquivo) as f:\n>         conteudo = f.read()\n> \n>     # Imprime o conteúdo\n>     print(conteudo)\n> ```\n> \n> **Biblioteca textwrap**\n> \n> A biblioteca textwrap fornece funções para formatar texto em várias linhas, quebrando-o em linhas com um determinado comprimento máximo. Isso é útil para criar texto legível em terminais, e-mails ou outros ambientes com largura limitada.\n> \n> **Principais recursos:**\n> \n> * **Quebra de linha:** Quebra o texto em linhas com um comprimento máximo especificado.\n> * **Indentação:** Indenta as linhas quebradas com um número especificado de espaços.\n> * **Preenchimento:** Preenche as linhas com espaços para alinhar o texto.\n> * **Suporte a Unicode:** Suporta texto Unicode para lidar com caracteres não ASCII.\n> \n> **Exemplo:**\n> \n> ```python\n> import textwrap\n> \n> # Texto a ser formatado\n> texto = \"\"\"\n> Este é um longo texto que precisa ser quebrado em várias linhas.\n> Ele contém várias frases e parágrafos.\n> \"\"\"\n> \n> # Quebra o texto em linhas com um comprimento máximo de 50 caracteres\n> texto_formatado = textwrap.fill(texto, width=50)\n> \n> # Imprime o texto formatado\n> print(texto_formatado)\n> ```\n> \n> Saída:\n> \n> ```\n> Este é um longo texto que precisa ser quebrado em\n> várias linhas. Ele contém várias frases e\n> parágrafos.\n> ```"
          },
          "metadata": {},
          "execution_count": 10
        }
      ]
    },
    {
      "cell_type": "code",
      "source": [
        "chat = model.start_chat(history=[])"
      ],
      "metadata": {
        "id": "g_OL0oZsDDhW"
      },
      "execution_count": 11,
      "outputs": []
    },
    {
      "cell_type": "code",
      "source": [
        "prompt = input(\"Digite sua pergunta: \")\n",
        "while prompt != \"sair\":\n",
        "  response = chat.send_message(prompt)\n",
        "  print(response.text)\n",
        "  prompt = input(\"Digite sua pergunta: \")"
      ],
      "metadata": {
        "colab": {
          "base_uri": "https://localhost:8080/",
          "height": 469
        },
        "id": "YpkoF_4wDfML",
        "outputId": "52dbd9c7-ab95-4f04-fa83-8e106410b541"
      },
      "execution_count": 12,
      "outputs": [
        {
          "name": "stdout",
          "output_type": "stream",
          "text": [
            "Digite sua pergunta: quando o nome do ultimo disco do queen?\n",
            "Made in Heaven\n",
            "Digite sua pergunta: Quais cançoes tem nesse disco\n",
            "**Lado A**\n",
            "\n",
            "1. It's a Beautiful Day\n",
            "2. Made in Heaven\n",
            "3. Let Me Live\n",
            "4. Mother Love\n",
            "5. My Life Has Been Saved\n",
            "6. I Was Born to Love You\n",
            "\n",
            "**Lado B**\n",
            "\n",
            "1. Heaven for Everyone\n",
            "2. Too Much Love Will Kill You\n",
            "3. You Don't Fool Me\n",
            "4. A Winter's Tale\n",
            "5. It's a Beautiful Day (Reprise)\n",
            "6. Yeah\n",
            "\n",
            "**Faixas bônus (relançamento de 1995)**\n",
            "\n",
            "1. Sail Away Sweet Sister\n",
            "2. Don't Try Suicide\n",
            "Digite sua pergunta: sair\n"
          ]
        }
      ]
    },
    {
      "cell_type": "code",
      "source": [
        "chat.history"
      ],
      "metadata": {
        "colab": {
          "base_uri": "https://localhost:8080/"
        },
        "id": "pAtt6c9BFLXc",
        "outputId": "ff958cc4-a426-4216-fd66-5ce7b683ffba"
      },
      "execution_count": 13,
      "outputs": [
        {
          "output_type": "execute_result",
          "data": {
            "text/plain": [
              "[parts {\n",
              "   text: \"quando o nome do ultimo disco do queen?\"\n",
              " }\n",
              " role: \"user\",\n",
              " parts {\n",
              "   text: \"Made in Heaven\"\n",
              " }\n",
              " role: \"model\",\n",
              " parts {\n",
              "   text: \"Quais can\\303\\247oes tem nesse disco\"\n",
              " }\n",
              " role: \"user\",\n",
              " parts {\n",
              "   text: \"**Lado A**\\n\\n1. It\\'s a Beautiful Day\\n2. Made in Heaven\\n3. Let Me Live\\n4. Mother Love\\n5. My Life Has Been Saved\\n6. I Was Born to Love You\\n\\n**Lado B**\\n\\n1. Heaven for Everyone\\n2. Too Much Love Will Kill You\\n3. You Don\\'t Fool Me\\n4. A Winter\\'s Tale\\n5. It\\'s a Beautiful Day (Reprise)\\n6. Yeah\\n\\n**Faixas b\\303\\264nus (relan\\303\\247amento de 1995)**\\n\\n1. Sail Away Sweet Sister\\n2. Don\\'t Try Suicide\"\n",
              " }\n",
              " role: \"model\"]"
            ]
          },
          "metadata": {},
          "execution_count": 13
        }
      ]
    },
    {
      "cell_type": "code",
      "source": [],
      "metadata": {
        "id": "WYJmmoJTF1HG"
      },
      "execution_count": null,
      "outputs": []
    }
  ]
}